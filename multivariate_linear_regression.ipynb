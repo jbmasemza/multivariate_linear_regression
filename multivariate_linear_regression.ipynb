{
 "cells": [
  {
   "cell_type": "markdown",
   "metadata": {},
   "source": [
    "### Loading required liabraries"
   ]
  },
  {
   "cell_type": "code",
   "execution_count": 1,
   "metadata": {},
   "outputs": [],
   "source": [
    "import matplotlib.pyplot as plt\n",
    "import numpy as np\n",
    "import pandas as pd\n",
    "import statsmodels\n",
    "import seaborn as sns\n",
    "import datetime\n",
    "import scipy.stats as stats\n",
    "import statsmodels.formula.api as smf\n",
    "import statsmodels.api as sm\n",
    "import scipy.stats as scipy\n",
    "from sklearn.model_selection import train_test_split\n",
    "from pandas.plotting import scatter_matrix\n",
    "from statsmodels.tools.eval_measures import rmse\n",
    "\n"
   ]
  },
  {
   "cell_type": "markdown",
   "metadata": {},
   "source": [
    "### Loading and creating DataFrame"
   ]
  },
  {
   "cell_type": "code",
   "execution_count": 2,
   "metadata": {},
   "outputs": [
    {
     "data": {
      "text/html": [
       "<div>\n",
       "<style scoped>\n",
       "    .dataframe tbody tr th:only-of-type {\n",
       "        vertical-align: middle;\n",
       "    }\n",
       "\n",
       "    .dataframe tbody tr th {\n",
       "        vertical-align: top;\n",
       "    }\n",
       "\n",
       "    .dataframe thead th {\n",
       "        text-align: right;\n",
       "    }\n",
       "</style>\n",
       "<table border=\"1\" class=\"dataframe\">\n",
       "  <thead>\n",
       "    <tr style=\"text-align: right;\">\n",
       "      <th></th>\n",
       "      <th>salary</th>\n",
       "      <th>exprior</th>\n",
       "      <th>yearsworked</th>\n",
       "      <th>yearsrank</th>\n",
       "      <th>market</th>\n",
       "      <th>degree</th>\n",
       "      <th>otherqual</th>\n",
       "      <th>position</th>\n",
       "      <th>male</th>\n",
       "      <th>Field</th>\n",
       "      <th>yearsabs</th>\n",
       "    </tr>\n",
       "  </thead>\n",
       "  <tbody>\n",
       "    <tr>\n",
       "      <th>0</th>\n",
       "      <td>53000.0</td>\n",
       "      <td>0</td>\n",
       "      <td>0</td>\n",
       "      <td>0</td>\n",
       "      <td>1.17</td>\n",
       "      <td>1</td>\n",
       "      <td>0</td>\n",
       "      <td>1</td>\n",
       "      <td>1</td>\n",
       "      <td>3</td>\n",
       "      <td>0</td>\n",
       "    </tr>\n",
       "    <tr>\n",
       "      <th>1</th>\n",
       "      <td>58000.0</td>\n",
       "      <td>1</td>\n",
       "      <td>0</td>\n",
       "      <td>0</td>\n",
       "      <td>1.24</td>\n",
       "      <td>1</td>\n",
       "      <td>0</td>\n",
       "      <td>1</td>\n",
       "      <td>1</td>\n",
       "      <td>2</td>\n",
       "      <td>0</td>\n",
       "    </tr>\n",
       "    <tr>\n",
       "      <th>2</th>\n",
       "      <td>45500.0</td>\n",
       "      <td>0</td>\n",
       "      <td>0</td>\n",
       "      <td>0</td>\n",
       "      <td>1.21</td>\n",
       "      <td>1</td>\n",
       "      <td>0</td>\n",
       "      <td>1</td>\n",
       "      <td>1</td>\n",
       "      <td>3</td>\n",
       "      <td>2</td>\n",
       "    </tr>\n",
       "    <tr>\n",
       "      <th>3</th>\n",
       "      <td>35782.0</td>\n",
       "      <td>0</td>\n",
       "      <td>2</td>\n",
       "      <td>1</td>\n",
       "      <td>0.99</td>\n",
       "      <td>1</td>\n",
       "      <td>0</td>\n",
       "      <td>1</td>\n",
       "      <td>1</td>\n",
       "      <td>4</td>\n",
       "      <td>1</td>\n",
       "    </tr>\n",
       "    <tr>\n",
       "      <th>4</th>\n",
       "      <td>34731.0</td>\n",
       "      <td>0</td>\n",
       "      <td>2</td>\n",
       "      <td>2</td>\n",
       "      <td>0.91</td>\n",
       "      <td>1</td>\n",
       "      <td>0</td>\n",
       "      <td>1</td>\n",
       "      <td>1</td>\n",
       "      <td>4</td>\n",
       "      <td>1</td>\n",
       "    </tr>\n",
       "  </tbody>\n",
       "</table>\n",
       "</div>"
      ],
      "text/plain": [
       "    salary  exprior  yearsworked  yearsrank  market  degree  otherqual  \\\n",
       "0  53000.0        0            0          0    1.17       1          0   \n",
       "1  58000.0        1            0          0    1.24       1          0   \n",
       "2  45500.0        0            0          0    1.21       1          0   \n",
       "3  35782.0        0            2          1    0.99       1          0   \n",
       "4  34731.0        0            2          2    0.91       1          0   \n",
       "\n",
       "   position  male  Field  yearsabs  \n",
       "0         1     1      3         0  \n",
       "1         1     1      2         0  \n",
       "2         1     1      3         2  \n",
       "3         1     1      4         1  \n",
       "4         1     1      4         1  "
      ]
     },
     "execution_count": 2,
     "metadata": {},
     "output_type": "execute_result"
    }
   ],
   "source": [
    "df = pd.read_csv('data/salary.csv')\n",
    "df.head()"
   ]
  },
  {
   "cell_type": "code",
   "execution_count": 3,
   "metadata": {},
   "outputs": [
    {
     "name": "stdout",
     "output_type": "stream",
     "text": [
      "Number of missing values is:  1\n"
     ]
    },
    {
     "data": {
      "text/html": [
       "<div>\n",
       "<style scoped>\n",
       "    .dataframe tbody tr th:only-of-type {\n",
       "        vertical-align: middle;\n",
       "    }\n",
       "\n",
       "    .dataframe tbody tr th {\n",
       "        vertical-align: top;\n",
       "    }\n",
       "\n",
       "    .dataframe thead th {\n",
       "        text-align: right;\n",
       "    }\n",
       "</style>\n",
       "<table border=\"1\" class=\"dataframe\">\n",
       "  <thead>\n",
       "    <tr style=\"text-align: right;\">\n",
       "      <th></th>\n",
       "      <th>salary</th>\n",
       "      <th>exprior</th>\n",
       "      <th>yearsworked</th>\n",
       "      <th>yearsrank</th>\n",
       "      <th>market</th>\n",
       "      <th>degree</th>\n",
       "      <th>otherqual</th>\n",
       "      <th>position</th>\n",
       "      <th>male</th>\n",
       "      <th>Field</th>\n",
       "      <th>yearsabs</th>\n",
       "    </tr>\n",
       "  </thead>\n",
       "  <tbody>\n",
       "    <tr>\n",
       "      <th>208</th>\n",
       "      <td>NaN</td>\n",
       "      <td>0</td>\n",
       "      <td>21</td>\n",
       "      <td>10</td>\n",
       "      <td>0.93</td>\n",
       "      <td>1</td>\n",
       "      <td>0</td>\n",
       "      <td>3</td>\n",
       "      <td>1</td>\n",
       "      <td>4</td>\n",
       "      <td>1</td>\n",
       "    </tr>\n",
       "  </tbody>\n",
       "</table>\n",
       "</div>"
      ],
      "text/plain": [
       "     salary  exprior  yearsworked  yearsrank  market  degree  otherqual  \\\n",
       "208     NaN        0           21         10    0.93       1          0   \n",
       "\n",
       "     position  male  Field  yearsabs  \n",
       "208         3     1      4         1  "
      ]
     },
     "execution_count": 3,
     "metadata": {},
     "output_type": "execute_result"
    }
   ],
   "source": [
    "null_values= df.isnull().sum().sum()\n",
    "print('Number of missing values is: ',null_values)\n",
    "null = df[df.salary.isnull()]\n",
    "null"
   ]
  },
  {
   "cell_type": "markdown",
   "metadata": {},
   "source": [
    "### Filling null value with the mean"
   ]
  },
  {
   "cell_type": "code",
   "execution_count": 4,
   "metadata": {},
   "outputs": [],
   "source": [
    "df['salary'].fillna(df['salary'].mean(),inplace = True)\n",
    "df = df.drop_duplicates()\n",
    "\n"
   ]
  },
  {
   "cell_type": "markdown",
   "metadata": {},
   "source": [
    "### 1. Splitting the data set to training and testing"
   ]
  },
  {
   "cell_type": "code",
   "execution_count": 5,
   "metadata": {},
   "outputs": [
    {
     "name": "stdout",
     "output_type": "stream",
     "text": [
      "(359, 11) (359,)\n",
      "(155, 11) (155,)\n"
     ]
    }
   ],
   "source": [
    "\n",
    "train_x, test_x, train_y, test_y = train_test_split(df, df.salary, test_size=0.3, random_state=50)\n",
    "print(train_x.shape, train_y.shape) \n",
    "print( test_x.shape, test_y.shape)\n"
   ]
  },
  {
   "cell_type": "markdown",
   "metadata": {},
   "source": [
    " - We decided to split my dataset in a 70:30 ratio for taining:testing respectively, since given the size of the dataset, this is the most appropriate ratio to use."
   ]
  },
  {
   "cell_type": "markdown",
   "metadata": {},
   "source": [
    "\n",
    "# Hypothesis Testing¶\n",
    "- Null Hypothesis: There is no relationship that exists between salary and all the features in the dataset.\n",
    "- Alternate Hypothesis: There exists a linear relationship between salary and some of the features in the dataset.\n"
   ]
  },
  {
   "cell_type": "markdown",
   "metadata": {},
   "source": [
    "### Looking at feautures that are highly correlated with salary"
   ]
  },
  {
   "cell_type": "code",
   "execution_count": 6,
   "metadata": {},
   "outputs": [
    {
     "data": {
      "text/plain": [
       "Field         -0.475643\n",
       "yearsabs      -0.048015\n",
       "degree         0.054808\n",
       "exprior        0.144664\n",
       "otherqual      0.203106\n",
       "male           0.345037\n",
       "market         0.398649\n",
       "yearsworked    0.609122\n",
       "yearsrank      0.609984\n",
       "position       0.713789\n",
       "salary         1.000000\n",
       "Name: salary, dtype: float64"
      ]
     },
     "execution_count": 6,
     "metadata": {},
     "output_type": "execute_result"
    }
   ],
   "source": [
    "data_corr =train_x.corr().iloc[:,0].sort_values()\n",
    "data_corr"
   ]
  },
  {
   "cell_type": "markdown",
   "metadata": {},
   "source": [
    "- From this I can see that position is highly correlated with salary \n",
    "- There is a  correlation betwwen salary and years ranked.\n",
    "- There is a  correlation betwwen salary and years worked.\n",
    "- There is also a slight negetive correlation between salary and Field"
   ]
  },
  {
   "cell_type": "markdown",
   "metadata": {},
   "source": [
    "### Validating the effect of the correlation of the above features\n",
    "- with significance test using p-value"
   ]
  },
  {
   "cell_type": "code",
   "execution_count": 7,
   "metadata": {},
   "outputs": [
    {
     "name": "stdout",
     "output_type": "stream",
     "text": [
      "pvalue of years worked and salary: (0.6231354820920552, 1.2747795189693407e-56)\n",
      "pvalue of years rank and salary: (0.610580392524893, 7.841461421302136e-54)\n",
      "pvalue of postion and salary: (0.7013536954022151, 2.6542174506471035e-77)\n",
      "pvalue of field and salary: (-0.49848547458371756, 1.2205378378494786e-33)\n"
     ]
    }
   ],
   "source": [
    "print(f'pvalue of years worked and salary: {stats.pearsonr(df.yearsworked, df.salary)}')\n",
    "print(f'pvalue of years rank and salary: {stats.pearsonr(df.yearsrank, df.salary)}')\n",
    "print(f'pvalue of postion and salary: {stats.pearsonr(df.position, df.salary)}')\n",
    "print(f'pvalue of field and salary: {stats.pearsonr(df.Field, df.salary)}')"
   ]
  },
  {
   "cell_type": "markdown",
   "metadata": {},
   "source": [
    "- The p-value for yearsranked is far less than 0.05, and so we believe that there is a relationship between years ranked and salary. Thus an increase in number of years worked  in your current possition will result in an increase in salary.\n",
    "- The p-value for yearsworked is far less than 0.05, and so we believe that there is a relationship between years worked and salary. Thus an increase in number of years worked will result in an increase in salary.\n",
    "- The p-value for position is far less than 0.05, and so we believe that there is a relationship between position and salary. Thus the higher the position,the higher the  salary.\n",
    "- The p-value for field is far less than 0.05, and so we believe that there is a relationship between field and salary. Thus certain field rank higher than other position so hihg ranked field earn more."
   ]
  },
  {
   "cell_type": "markdown",
   "metadata": {},
   "source": [
    "### According to the p-values computed above which are within the threshold for all four variables, we reject the null hypothesis and go on to use years ranked,salary, position, field and years worked as key features to build my model."
   ]
  },
  {
   "cell_type": "markdown",
   "metadata": {},
   "source": [
    "## Checking for descriptive statistics table"
   ]
  },
  {
   "cell_type": "code",
   "execution_count": 8,
   "metadata": {},
   "outputs": [],
   "source": [
    "df_new = train_x[['salary','yearsworked', 'yearsrank','position','Field']]\n"
   ]
  },
  {
   "cell_type": "code",
   "execution_count": 9,
   "metadata": {},
   "outputs": [
    {
     "data": {
      "text/html": [
       "<div>\n",
       "<style scoped>\n",
       "    .dataframe tbody tr th:only-of-type {\n",
       "        vertical-align: middle;\n",
       "    }\n",
       "\n",
       "    .dataframe tbody tr th {\n",
       "        vertical-align: top;\n",
       "    }\n",
       "\n",
       "    .dataframe thead th {\n",
       "        text-align: right;\n",
       "    }\n",
       "</style>\n",
       "<table border=\"1\" class=\"dataframe\">\n",
       "  <thead>\n",
       "    <tr style=\"text-align: right;\">\n",
       "      <th></th>\n",
       "      <th>salary</th>\n",
       "      <th>yearsworked</th>\n",
       "      <th>yearsrank</th>\n",
       "      <th>position</th>\n",
       "      <th>Field</th>\n",
       "    </tr>\n",
       "  </thead>\n",
       "  <tbody>\n",
       "    <tr>\n",
       "      <th>count</th>\n",
       "      <td>359.000000</td>\n",
       "      <td>359.000000</td>\n",
       "      <td>359.000000</td>\n",
       "      <td>359.000000</td>\n",
       "      <td>359.000000</td>\n",
       "    </tr>\n",
       "    <tr>\n",
       "      <th>mean</th>\n",
       "      <td>51065.994712</td>\n",
       "      <td>12.802228</td>\n",
       "      <td>6.949861</td>\n",
       "      <td>2.150418</td>\n",
       "      <td>2.545961</td>\n",
       "    </tr>\n",
       "    <tr>\n",
       "      <th>std</th>\n",
       "      <td>12549.798910</td>\n",
       "      <td>9.339194</td>\n",
       "      <td>6.402927</td>\n",
       "      <td>0.811711</td>\n",
       "      <td>1.124873</td>\n",
       "    </tr>\n",
       "    <tr>\n",
       "      <th>min</th>\n",
       "      <td>29000.000000</td>\n",
       "      <td>0.000000</td>\n",
       "      <td>0.000000</td>\n",
       "      <td>1.000000</td>\n",
       "      <td>1.000000</td>\n",
       "    </tr>\n",
       "    <tr>\n",
       "      <th>25%</th>\n",
       "      <td>40625.500000</td>\n",
       "      <td>4.000000</td>\n",
       "      <td>2.000000</td>\n",
       "      <td>1.000000</td>\n",
       "      <td>2.000000</td>\n",
       "    </tr>\n",
       "    <tr>\n",
       "      <th>50%</th>\n",
       "      <td>50729.000000</td>\n",
       "      <td>12.000000</td>\n",
       "      <td>5.000000</td>\n",
       "      <td>2.000000</td>\n",
       "      <td>3.000000</td>\n",
       "    </tr>\n",
       "    <tr>\n",
       "      <th>75%</th>\n",
       "      <td>60373.500000</td>\n",
       "      <td>22.000000</td>\n",
       "      <td>11.000000</td>\n",
       "      <td>3.000000</td>\n",
       "      <td>4.000000</td>\n",
       "    </tr>\n",
       "    <tr>\n",
       "      <th>max</th>\n",
       "      <td>96156.000000</td>\n",
       "      <td>31.000000</td>\n",
       "      <td>24.000000</td>\n",
       "      <td>3.000000</td>\n",
       "      <td>4.000000</td>\n",
       "    </tr>\n",
       "  </tbody>\n",
       "</table>\n",
       "</div>"
      ],
      "text/plain": [
       "             salary  yearsworked   yearsrank    position       Field\n",
       "count    359.000000   359.000000  359.000000  359.000000  359.000000\n",
       "mean   51065.994712    12.802228    6.949861    2.150418    2.545961\n",
       "std    12549.798910     9.339194    6.402927    0.811711    1.124873\n",
       "min    29000.000000     0.000000    0.000000    1.000000    1.000000\n",
       "25%    40625.500000     4.000000    2.000000    1.000000    2.000000\n",
       "50%    50729.000000    12.000000    5.000000    2.000000    3.000000\n",
       "75%    60373.500000    22.000000   11.000000    3.000000    4.000000\n",
       "max    96156.000000    31.000000   24.000000    3.000000    4.000000"
      ]
     },
     "execution_count": 9,
     "metadata": {},
     "output_type": "execute_result"
    }
   ],
   "source": [
    "df_new.describe()"
   ]
  },
  {
   "cell_type": "markdown",
   "metadata": {},
   "source": [
    "### Creating Histograms for the variables of interest"
   ]
  },
  {
   "cell_type": "code",
   "execution_count": 10,
   "metadata": {},
   "outputs": [
    {
     "data": {
      "image/png": "[encoded data removed]",
      "text/plain": [
       "<Figure size 1152x1440 with 6 Axes>"
      ]
     },
     "metadata": {},
     "output_type": "display_data"
    }
   ],
   "source": [
    "sns.set()\n",
    "df_new.hist(figsize=(16, 20),bins=20, xlabelsize=8, ylabelsize=8);"
   ]
  },
  {
   "cell_type": "markdown",
   "metadata": {},
   "source": [
    "## From the above histograms of the features of interest it is clear that Position and Field are categorical data.\n",
    "\n",
    " ### Salary\n",
    "- There are few possible outliers\n",
    "- The distribution is skewed to the right\n",
    "- A lot of individuals earn between 33000 dollars & 75000 dollars\n",
    "### Years worked in this field\n",
    "- There are possible outliers \n",
    "- The distribution is skewed to the right\n",
    "- A lot of individuals have worked between 0 years & 29 years\n",
    "### Years worked at current rank\n",
    "- The distribution is skewed to the right\n",
    "- There are possible outliers just few of them\n",
    "- Most individuals have worked at the current rank for years between 0 & 5 years."
   ]
  },
  {
   "cell_type": "markdown",
   "metadata": {},
   "source": [
    "### 2.One-hot encode the variable Field into four dummy variables, using HR as the reference category."
   ]
  },
  {
   "cell_type": "code",
   "execution_count": 11,
   "metadata": {},
   "outputs": [
    {
     "data": {
      "text/html": [
       "<div>\n",
       "<style scoped>\n",
       "    .dataframe tbody tr th:only-of-type {\n",
       "        vertical-align: middle;\n",
       "    }\n",
       "\n",
       "    .dataframe tbody tr th {\n",
       "        vertical-align: top;\n",
       "    }\n",
       "\n",
       "    .dataframe thead th {\n",
       "        text-align: right;\n",
       "    }\n",
       "</style>\n",
       "<table border=\"1\" class=\"dataframe\">\n",
       "  <thead>\n",
       "    <tr style=\"text-align: right;\">\n",
       "      <th></th>\n",
       "      <th>salary</th>\n",
       "      <th>exprior</th>\n",
       "      <th>yearsworked</th>\n",
       "      <th>yearsrank</th>\n",
       "      <th>market</th>\n",
       "      <th>degree</th>\n",
       "      <th>otherqual</th>\n",
       "      <th>male</th>\n",
       "      <th>yearsabs</th>\n",
       "      <th>Engeneering</th>\n",
       "      <th>Finance</th>\n",
       "      <th>HR</th>\n",
       "      <th>Marketing</th>\n",
       "      <th>Junior_Employee</th>\n",
       "      <th>Manager</th>\n",
       "      <th>Executive</th>\n",
       "    </tr>\n",
       "  </thead>\n",
       "  <tbody>\n",
       "    <tr>\n",
       "      <th>0</th>\n",
       "      <td>53000.0</td>\n",
       "      <td>0</td>\n",
       "      <td>0</td>\n",
       "      <td>0</td>\n",
       "      <td>1.17</td>\n",
       "      <td>1</td>\n",
       "      <td>0</td>\n",
       "      <td>1</td>\n",
       "      <td>0</td>\n",
       "      <td>0</td>\n",
       "      <td>0</td>\n",
       "      <td>1</td>\n",
       "      <td>0</td>\n",
       "      <td>1</td>\n",
       "      <td>0</td>\n",
       "      <td>0</td>\n",
       "    </tr>\n",
       "    <tr>\n",
       "      <th>1</th>\n",
       "      <td>58000.0</td>\n",
       "      <td>1</td>\n",
       "      <td>0</td>\n",
       "      <td>0</td>\n",
       "      <td>1.24</td>\n",
       "      <td>1</td>\n",
       "      <td>0</td>\n",
       "      <td>1</td>\n",
       "      <td>0</td>\n",
       "      <td>0</td>\n",
       "      <td>1</td>\n",
       "      <td>0</td>\n",
       "      <td>0</td>\n",
       "      <td>1</td>\n",
       "      <td>0</td>\n",
       "      <td>0</td>\n",
       "    </tr>\n",
       "    <tr>\n",
       "      <th>2</th>\n",
       "      <td>45500.0</td>\n",
       "      <td>0</td>\n",
       "      <td>0</td>\n",
       "      <td>0</td>\n",
       "      <td>1.21</td>\n",
       "      <td>1</td>\n",
       "      <td>0</td>\n",
       "      <td>1</td>\n",
       "      <td>2</td>\n",
       "      <td>0</td>\n",
       "      <td>0</td>\n",
       "      <td>1</td>\n",
       "      <td>0</td>\n",
       "      <td>1</td>\n",
       "      <td>0</td>\n",
       "      <td>0</td>\n",
       "    </tr>\n",
       "    <tr>\n",
       "      <th>3</th>\n",
       "      <td>35782.0</td>\n",
       "      <td>0</td>\n",
       "      <td>2</td>\n",
       "      <td>1</td>\n",
       "      <td>0.99</td>\n",
       "      <td>1</td>\n",
       "      <td>0</td>\n",
       "      <td>1</td>\n",
       "      <td>1</td>\n",
       "      <td>0</td>\n",
       "      <td>0</td>\n",
       "      <td>0</td>\n",
       "      <td>1</td>\n",
       "      <td>1</td>\n",
       "      <td>0</td>\n",
       "      <td>0</td>\n",
       "    </tr>\n",
       "    <tr>\n",
       "      <th>4</th>\n",
       "      <td>34731.0</td>\n",
       "      <td>0</td>\n",
       "      <td>2</td>\n",
       "      <td>2</td>\n",
       "      <td>0.91</td>\n",
       "      <td>1</td>\n",
       "      <td>0</td>\n",
       "      <td>1</td>\n",
       "      <td>1</td>\n",
       "      <td>0</td>\n",
       "      <td>0</td>\n",
       "      <td>0</td>\n",
       "      <td>1</td>\n",
       "      <td>1</td>\n",
       "      <td>0</td>\n",
       "      <td>0</td>\n",
       "    </tr>\n",
       "  </tbody>\n",
       "</table>\n",
       "</div>"
      ],
      "text/plain": [
       "    salary  exprior  yearsworked  yearsrank  market  degree  otherqual  male  \\\n",
       "0  53000.0        0            0          0    1.17       1          0     1   \n",
       "1  58000.0        1            0          0    1.24       1          0     1   \n",
       "2  45500.0        0            0          0    1.21       1          0     1   \n",
       "3  35782.0        0            2          1    0.99       1          0     1   \n",
       "4  34731.0        0            2          2    0.91       1          0     1   \n",
       "\n",
       "   yearsabs  Engeneering  Finance  HR  Marketing  Junior_Employee  Manager  \\\n",
       "0         0            0        0   1          0                1        0   \n",
       "1         0            0        1   0          0                1        0   \n",
       "2         2            0        0   1          0                1        0   \n",
       "3         1            0        0   0          1                1        0   \n",
       "4         1            0        0   0          1                1        0   \n",
       "\n",
       "   Executive  \n",
       "0          0  \n",
       "1          0  \n",
       "2          0  \n",
       "3          0  \n",
       "4          0  "
      ]
     },
     "execution_count": 11,
     "metadata": {},
     "output_type": "execute_result"
    }
   ],
   "source": [
    "field = pd.get_dummies(df['Field'])\n",
    "position = pd.get_dummies(df['position'])\n",
    "\n",
    "new_field = field.rename(columns={1:'Engeneering',2:'Finance',3:'HR',4:'Marketing'})\n",
    "new_position = position.rename(columns={1:'Junior_Employee', 2: 'Manager', 3:'Executive'})\n",
    "\n",
    "salary = pd.concat([df, new_field, new_position] ,axis=1)\n",
    "salary.drop(['position','Field'], axis=1,inplace=True)\n",
    "salary.head()"
   ]
  },
  {
   "cell_type": "markdown",
   "metadata": {},
   "source": [
    "### 3.Checking for Multicolinearity"
   ]
  },
  {
   "cell_type": "code",
   "execution_count": 12,
   "metadata": {},
   "outputs": [
    {
     "data": {
      "text/plain": [
       "<seaborn.axisgrid.PairGrid at 0x7f8e7d6abf50>"
      ]
     },
     "execution_count": 12,
     "metadata": {},
     "output_type": "execute_result"
    },
    {
     "data": {
      "image/png": "[encoded data removed]",
      "text/plain": [
       "<Figure size 900x900 with 30 Axes>"
      ]
     },
     "metadata": {},
     "output_type": "display_data"
    }
   ],
   "source": [
    "sns.pairplot(df_new[['salary', 'position','yearsworked','yearsrank','Field']])"
   ]
  },
  {
   "cell_type": "markdown",
   "metadata": {},
   "source": [
    "- After oberving the above charts, there seem to be a linear relationship among yearsworked and years rank, thus there is multicolinearity, Therefore we are selecting one variables with the most correlation between those two as our predictors for the target salary. We will also be selecting position and field as predictors also."
   ]
  },
  {
   "cell_type": "markdown",
   "metadata": {},
   "source": [
    "## 4.Model development"
   ]
  },
  {
   "cell_type": "markdown",
   "metadata": {},
   "source": [
    "### Fitting the model for the desired features"
   ]
  },
  {
   "cell_type": "code",
   "execution_count": 13,
   "metadata": {},
   "outputs": [
    {
     "data": {
      "text/html": [
       "<table class=\"simpletable\">\n",
       "<caption>OLS Regression Results</caption>\n",
       "<tr>\n",
       "  <th>Dep. Variable:</th>         <td>salary</td>      <th>  R-squared:         </th> <td>   0.601</td>\n",
       "</tr>\n",
       "<tr>\n",
       "  <th>Model:</th>                   <td>OLS</td>       <th>  Adj. R-squared:    </th> <td>   0.597</td>\n",
       "</tr>\n",
       "<tr>\n",
       "  <th>Method:</th>             <td>Least Squares</td>  <th>  F-statistic:       </th> <td>   177.9</td>\n",
       "</tr>\n",
       "<tr>\n",
       "  <th>Date:</th>             <td>Sun, 19 Apr 2020</td> <th>  Prob (F-statistic):</th> <td>2.09e-70</td>\n",
       "</tr>\n",
       "<tr>\n",
       "  <th>Time:</th>                 <td>16:45:55</td>     <th>  Log-Likelihood:    </th> <td> -3732.2</td>\n",
       "</tr>\n",
       "<tr>\n",
       "  <th>No. Observations:</th>      <td>   359</td>      <th>  AIC:               </th> <td>   7472.</td>\n",
       "</tr>\n",
       "<tr>\n",
       "  <th>Df Residuals:</th>          <td>   355</td>      <th>  BIC:               </th> <td>   7488.</td>\n",
       "</tr>\n",
       "<tr>\n",
       "  <th>Df Model:</th>              <td>     3</td>      <th>                     </th>     <td> </td>   \n",
       "</tr>\n",
       "<tr>\n",
       "  <th>Covariance Type:</th>      <td>nonrobust</td>    <th>                     </th>     <td> </td>   \n",
       "</tr>\n",
       "</table>\n",
       "<table class=\"simpletable\">\n",
       "<tr>\n",
       "       <td></td>          <th>coef</th>     <th>std err</th>      <th>t</th>      <th>P>|t|</th>  <th>[0.025</th>    <th>0.975]</th>  \n",
       "</tr>\n",
       "<tr>\n",
       "  <th>const</th>       <td> 3.954e+04</td> <td> 1815.303</td> <td>   21.782</td> <td> 0.000</td> <td>  3.6e+04</td> <td> 4.31e+04</td>\n",
       "</tr>\n",
       "<tr>\n",
       "  <th>yearsworked</th> <td>  218.5157</td> <td>   67.081</td> <td>    3.257</td> <td> 0.001</td> <td>   86.590</td> <td>  350.442</td>\n",
       "</tr>\n",
       "<tr>\n",
       "  <th>position</th>    <td> 7881.6462</td> <td>  782.832</td> <td>   10.068</td> <td> 0.000</td> <td> 6342.074</td> <td> 9421.218</td>\n",
       "</tr>\n",
       "<tr>\n",
       "  <th>Field</th>       <td>-3228.8957</td> <td>  391.209</td> <td>   -8.254</td> <td> 0.000</td> <td>-3998.274</td> <td>-2459.518</td>\n",
       "</tr>\n",
       "</table>\n",
       "<table class=\"simpletable\">\n",
       "<tr>\n",
       "  <th>Omnibus:</th>       <td>52.840</td> <th>  Durbin-Watson:     </th> <td>   2.036</td>\n",
       "</tr>\n",
       "<tr>\n",
       "  <th>Prob(Omnibus):</th> <td> 0.000</td> <th>  Jarque-Bera (JB):  </th> <td>  77.772</td>\n",
       "</tr>\n",
       "<tr>\n",
       "  <th>Skew:</th>          <td> 0.942</td> <th>  Prob(JB):          </th> <td>1.29e-17</td>\n",
       "</tr>\n",
       "<tr>\n",
       "  <th>Kurtosis:</th>      <td> 4.285</td> <th>  Cond. No.          </th> <td>    73.5</td>\n",
       "</tr>\n",
       "</table><br/><br/>Warnings:<br/>[1] Standard Errors assume that the covariance matrix of the errors is correctly specified."
      ],
      "text/plain": [
       "<class 'statsmodels.iolib.summary.Summary'>\n",
       "\"\"\"\n",
       "                            OLS Regression Results                            \n",
       "==============================================================================\n",
       "Dep. Variable:                 salary   R-squared:                       0.601\n",
       "Model:                            OLS   Adj. R-squared:                  0.597\n",
       "Method:                 Least Squares   F-statistic:                     177.9\n",
       "Date:                Sun, 19 Apr 2020   Prob (F-statistic):           2.09e-70\n",
       "Time:                        16:45:55   Log-Likelihood:                -3732.2\n",
       "No. Observations:                 359   AIC:                             7472.\n",
       "Df Residuals:                     355   BIC:                             7488.\n",
       "Df Model:                           3                                         \n",
       "Covariance Type:            nonrobust                                         \n",
       "===============================================================================\n",
       "                  coef    std err          t      P>|t|      [0.025      0.975]\n",
       "-------------------------------------------------------------------------------\n",
       "const        3.954e+04   1815.303     21.782      0.000     3.6e+04    4.31e+04\n",
       "yearsworked   218.5157     67.081      3.257      0.001      86.590     350.442\n",
       "position     7881.6462    782.832     10.068      0.000    6342.074    9421.218\n",
       "Field       -3228.8957    391.209     -8.254      0.000   -3998.274   -2459.518\n",
       "==============================================================================\n",
       "Omnibus:                       52.840   Durbin-Watson:                   2.036\n",
       "Prob(Omnibus):                  0.000   Jarque-Bera (JB):               77.772\n",
       "Skew:                           0.942   Prob(JB):                     1.29e-17\n",
       "Kurtosis:                       4.285   Cond. No.                         73.5\n",
       "==============================================================================\n",
       "\n",
       "Warnings:\n",
       "[1] Standard Errors assume that the covariance matrix of the errors is correctly specified.\n",
       "\"\"\""
      ]
     },
     "execution_count": 13,
     "metadata": {},
     "output_type": "execute_result"
    }
   ],
   "source": [
    "X = sm.add_constant(train_x[['yearsworked','position','Field']])\n",
    "model = sm.OLS(train_y, X).fit()\n",
    "model.summary()"
   ]
  },
  {
   "cell_type": "markdown",
   "metadata": {},
   "source": [
    "- According to the model above:\n",
    "- 62.6% of the variation in salary is due to years worked,field and position, the Dublin-Watson score of 1.830 indicates no autocorrelation among the key features"
   ]
  },
  {
   "cell_type": "code",
   "execution_count": 14,
   "metadata": {},
   "outputs": [
    {
     "data": {
      "text/plain": [
       "const          39540.316833\n",
       "yearsworked      218.515711\n",
       "position        7881.646170\n",
       "Field          -3228.895726\n",
       "dtype: float64"
      ]
     },
     "execution_count": 14,
     "metadata": {},
     "output_type": "execute_result"
    }
   ],
   "source": [
    "model.params"
   ]
  },
  {
   "cell_type": "markdown",
   "metadata": {},
   "source": [
    "### 5.Compute the standardised residuals (resid()) and standardised predicted values (fittedvalues()).¶\n"
   ]
  },
  {
   "cell_type": "code",
   "execution_count": 15,
   "metadata": {},
   "outputs": [],
   "source": [
    "#Create residuals\n",
    "residual  = model.resid\n",
    "\n",
    "#Fit linear model to dataset\n",
    "results   = model.fittedvalues\n",
    "\n",
    "\n",
    "#create instance of influence\n",
    "influence = model.get_influence()\n",
    "\n",
    "#leverage (hat values)\n",
    "leverage = influence.hat_matrix_diag\n",
    "\n",
    "#Cook's D values and p-values\n",
    "cooks_d = influence.cooks_distance\n",
    "\n",
    "#standardized residuals(internal)\n",
    "standardized_residuals = influence.resid_studentized_internal\n",
    "\n",
    "#standardized residuals(external)\n",
    "studentized_residuals = influence.resid_studentized_external"
   ]
  },
  {
   "cell_type": "code",
   "execution_count": 16,
   "metadata": {},
   "outputs": [
    {
     "data": {
      "text/html": [
       "<div>\n",
       "<style scoped>\n",
       "    .dataframe tbody tr th:only-of-type {\n",
       "        vertical-align: middle;\n",
       "    }\n",
       "\n",
       "    .dataframe tbody tr th {\n",
       "        vertical-align: top;\n",
       "    }\n",
       "\n",
       "    .dataframe thead th {\n",
       "        text-align: right;\n",
       "    }\n",
       "</style>\n",
       "<table border=\"1\" class=\"dataframe\">\n",
       "  <thead>\n",
       "    <tr style=\"text-align: right;\">\n",
       "      <th></th>\n",
       "      <th>Residual</th>\n",
       "      <th>Standard_residual</th>\n",
       "      <th>Predicted Salary</th>\n",
       "      <th>Actual Salary</th>\n",
       "    </tr>\n",
       "  </thead>\n",
       "  <tbody>\n",
       "    <tr>\n",
       "      <th>347</th>\n",
       "      <td>709.611907</td>\n",
       "      <td>0.089387</td>\n",
       "      <td>62627.388093</td>\n",
       "      <td>63337.00000</td>\n",
       "    </tr>\n",
       "    <tr>\n",
       "      <th>3</th>\n",
       "      <td>838.588478</td>\n",
       "      <td>0.105713</td>\n",
       "      <td>34943.411522</td>\n",
       "      <td>35782.00000</td>\n",
       "    </tr>\n",
       "    <tr>\n",
       "      <th>210</th>\n",
       "      <td>249.408108</td>\n",
       "      <td>0.031417</td>\n",
       "      <td>64545.189552</td>\n",
       "      <td>64794.59766</td>\n",
       "    </tr>\n",
       "    <tr>\n",
       "      <th>35</th>\n",
       "      <td>-7193.067277</td>\n",
       "      <td>-0.911565</td>\n",
       "      <td>44193.067277</td>\n",
       "      <td>37000.00000</td>\n",
       "    </tr>\n",
       "    <tr>\n",
       "      <th>472</th>\n",
       "      <td>-10314.395862</td>\n",
       "      <td>-1.298663</td>\n",
       "      <td>48676.141952</td>\n",
       "      <td>38361.74609</td>\n",
       "    </tr>\n",
       "  </tbody>\n",
       "</table>\n",
       "</div>"
      ],
      "text/plain": [
       "         Residual  Standard_residual  Predicted Salary  Actual Salary\n",
       "347    709.611907           0.089387      62627.388093    63337.00000\n",
       "3      838.588478           0.105713      34943.411522    35782.00000\n",
       "210    249.408108           0.031417      64545.189552    64794.59766\n",
       "35   -7193.067277          -0.911565      44193.067277    37000.00000\n",
       "472 -10314.395862          -1.298663      48676.141952    38361.74609"
      ]
     },
     "execution_count": 16,
     "metadata": {},
     "output_type": "execute_result"
    }
   ],
   "source": [
    "\n",
    "#Representing residuals and fitted values in a table\n",
    "\n",
    "residuals_fitted = {'Residual': residual, 'Standard_residual':studentized_residuals, 'Predicted Salary': results, 'Actual Salary' :train_y}\n",
    "\n",
    "\n",
    "residuals_fitted = pd.DataFrame(residuals_fitted)\n",
    "\n",
    "residuals_fitted.head()"
   ]
  },
  {
   "cell_type": "markdown",
   "metadata": {},
   "source": [
    "###  6.Plot of residuals versus the predicted values  with fitted values as the x parameter, and the dependent variable as y, specifying lowess=True"
   ]
  },
  {
   "cell_type": "code",
   "execution_count": 17,
   "metadata": {},
   "outputs": [
    {
     "data": {
      "image/png": "[encoded data removed]",
      "text/plain": [
       "<Figure size 432x288 with 1 Axes>"
      ]
     },
     "metadata": {},
     "output_type": "display_data"
    }
   ],
   "source": [
    "sns.residplot(x = results, y = residual, lowess=True)\n",
    "\n",
    "plt.title('Plot of Residuals versus the Predicted Salary\\n')\n",
    "plt.xlabel('Fitted Values')\n",
    "plt.ylabel('Residuals');"
   ]
  },
  {
   "cell_type": "markdown",
   "metadata": {},
   "source": [
    "Data points are pretty symmetrically distributed, tending to cluster towards the middle of the plot and they’re clustered around y = 0 showing no patterns"
   ]
  },
  {
   "cell_type": "markdown",
   "metadata": {},
   "source": [
    "###  Predictions"
   ]
  },
  {
   "cell_type": "code",
   "execution_count": 18,
   "metadata": {},
   "outputs": [],
   "source": [
    "#Run model on the test set\n",
    "test_x = sm.add_constant(test_x[['yearsworked','position','Field']])\n",
    "\n",
    "y_prediction = model.predict(test_x)\n",
    "\n",
    "pred = model.predict(X)"
   ]
  },
  {
   "cell_type": "markdown",
   "metadata": {},
   "source": [
    "### Model quality check"
   ]
  },
  {
   "cell_type": "code",
   "execution_count": 19,
   "metadata": {},
   "outputs": [
    {
     "name": "stdout",
     "output_type": "stream",
     "text": [
      "The difference between train and test: 207.1483807065797\n"
     ]
    }
   ],
   "source": [
    "# Train\n",
    "training_rmse = rmse(train_y, pred)\n",
    "training_rmse\n",
    "# Test\n",
    "testing_rmse = rmse(test_y, y_prediction)\n",
    "testing_rmse\n",
    "diffrence  = testing_rmse - training_rmse\n",
    "print(f'The difference between train and test: {diffrence}')\n"
   ]
  },
  {
   "cell_type": "markdown",
   "metadata": {},
   "source": [
    "\n",
    "#### The RMSE scores show no signs of overfitting or underfitting. The test is higer than the train values which makes sense since it has less data than the training set.The model seems to be a good model since it has satisfied the linear regression assumption.\n",
    "\n",
    "###### Linear regression assumptions:\n",
    "- Linear relationship\n",
    "- Multivariate normality\n",
    "- No multicollinearity\n",
    "- No auto-correlation\n"
   ]
  },
  {
   "cell_type": "markdown",
   "metadata": {},
   "source": [
    "### conclusion"
   ]
  },
  {
   "cell_type": "markdown",
   "metadata": {},
   "source": [
    "\n",
    "- The accuracy of the model has proved that Years Worked and Position are strong predictors for employee's salary"
   ]
  },
  {
   "cell_type": "markdown",
   "metadata": {},
   "source": [
    "### OPP for DATA"
   ]
  },
  {
   "cell_type": "markdown",
   "metadata": {},
   "source": [
    "\n",
    "#### ErrorCalculator Class"
   ]
  },
  {
   "cell_type": "code",
   "execution_count": 20,
   "metadata": {},
   "outputs": [],
   "source": [
    "class ErrorCalculator:\n",
    "\n",
    "    def __init__(self, y, y_predict):\n",
    "\n",
    "        self.y          =   np.array(y)       \n",
    "        self.y_predict     =   np.array(y_predict)  \n",
    "\n",
    "\n",
    "    def get_residuals(self):\n",
    "\n",
    "        residuals = self.y - self.y_predict\n",
    "        return residuals\n",
    "\n",
    "    def get_standardised_residuals(self):\n",
    "\n",
    "        standardised_residuals = self.get_residuals() / (self.get_residuals()/std())\n",
    "        return standardised_residuals\n",
    "\n",
    "    def get_mse(self):\n",
    "\n",
    "        mse = np.square(np.subtract(self.y, self.y_predict)).mean()\n",
    "        return mse\n",
    "\n",
    "    def get_rmse(self):\n",
    "\n",
    "        rmse = np.sqrt(((self.y_predict - self.y)**2).mean())\n",
    "        return rmse\n",
    "\n",
    "    def error_summary(self):\n",
    "        std_resid_min = min(self.std_res)\n",
    "        std_resid_max = max(self.std_res)\n",
    "        rmse_min = min(self.rmse)\n",
    "        rmse_max = max(self.rmse)\n",
    "        mse_min = min(self.mse)\n",
    "        mse_max = max(self.mse)\n",
    "        print(f'standard residual: {std_resid_min}')\n",
    "        print(f'standard residual: {std_resid_max}')\n",
    "        print(f'min rmse: {rmse_min}')"
   ]
  },
  {
   "cell_type": "code",
   "execution_count": 21,
   "metadata": {},
   "outputs": [],
   "source": [
    "class Plotter():\n",
    "    def __init__(self,y_test,ypred):\n",
    "        self.y_test = y_test\n",
    "        self.ypred = ypred\n",
    "    \n",
    "    def run_calculations(self):\n",
    "        return self.y_test - self.ypred\n",
    "    \n",
    "    def plot(self):\n",
    "        plt.hist(self.y_test - self.ypred)\n",
    "        plt.title('Residuals Plot for predictions')\n",
    "        plt.xlabel('Residuals')\n",
    "        plt.ylabel('Frequency')\n",
    "        return plt.show()"
   ]
  },
  {
   "cell_type": "code",
   "execution_count": 22,
   "metadata": {},
   "outputs": [],
   "source": [
    "class HistogramPlotter(Plotter):\n",
    "    def __init__(self, y_test,ypred):\n",
    "        Plotter.__init__(self, y_test, ypred)\n",
    "        \n",
    "class ScatterPlotter(Plotter):\n",
    "    def __init__(self, y_test, ypred):\n",
    "        Plotter.__init__(self, y_test, ypred)\n",
    "\n",
    "    def plot(self):\n",
    "        chart = pd.DataFrame({\"y_test\": self.y_test, \"y_prediction\": self.ypred})\n",
    "        chart.plot.scatter(x=\"y_test\", y=\"y_prediction\", c=\"DarkBlue\")\n",
    "        plt.title(\"Prediction vs Actual values\")\n",
    "        plt.xlabel(\"Actual\")\n",
    "        plt.ylabel(\"Prediction\")\n",
    "        return plt.show()"
   ]
  },
  {
   "cell_type": "code",
   "execution_count": 23,
   "metadata": {},
   "outputs": [
    {
     "data": {
      "text/html": [
       "<div>\n",
       "<style scoped>\n",
       "    .dataframe tbody tr th:only-of-type {\n",
       "        vertical-align: middle;\n",
       "    }\n",
       "\n",
       "    .dataframe tbody tr th {\n",
       "        vertical-align: top;\n",
       "    }\n",
       "\n",
       "    .dataframe thead th {\n",
       "        text-align: right;\n",
       "    }\n",
       "</style>\n",
       "<table border=\"1\" class=\"dataframe\">\n",
       "  <thead>\n",
       "    <tr style=\"text-align: right;\">\n",
       "      <th></th>\n",
       "      <th>salary</th>\n",
       "      <th>exprior</th>\n",
       "      <th>yearsworked</th>\n",
       "      <th>yearsrank</th>\n",
       "      <th>market</th>\n",
       "      <th>degree</th>\n",
       "      <th>otherqual</th>\n",
       "      <th>male</th>\n",
       "      <th>yearsabs</th>\n",
       "      <th>Engeneering</th>\n",
       "      <th>Finance</th>\n",
       "      <th>HR</th>\n",
       "      <th>Marketing</th>\n",
       "      <th>Junior_Employee</th>\n",
       "      <th>Manager</th>\n",
       "      <th>Executive</th>\n",
       "    </tr>\n",
       "  </thead>\n",
       "  <tbody>\n",
       "    <tr>\n",
       "      <th>0</th>\n",
       "      <td>53000.0</td>\n",
       "      <td>0</td>\n",
       "      <td>0</td>\n",
       "      <td>0</td>\n",
       "      <td>1.17</td>\n",
       "      <td>1</td>\n",
       "      <td>0</td>\n",
       "      <td>1</td>\n",
       "      <td>0</td>\n",
       "      <td>0</td>\n",
       "      <td>0</td>\n",
       "      <td>1</td>\n",
       "      <td>0</td>\n",
       "      <td>1</td>\n",
       "      <td>0</td>\n",
       "      <td>0</td>\n",
       "    </tr>\n",
       "    <tr>\n",
       "      <th>1</th>\n",
       "      <td>58000.0</td>\n",
       "      <td>1</td>\n",
       "      <td>0</td>\n",
       "      <td>0</td>\n",
       "      <td>1.24</td>\n",
       "      <td>1</td>\n",
       "      <td>0</td>\n",
       "      <td>1</td>\n",
       "      <td>0</td>\n",
       "      <td>0</td>\n",
       "      <td>1</td>\n",
       "      <td>0</td>\n",
       "      <td>0</td>\n",
       "      <td>1</td>\n",
       "      <td>0</td>\n",
       "      <td>0</td>\n",
       "    </tr>\n",
       "    <tr>\n",
       "      <th>2</th>\n",
       "      <td>45500.0</td>\n",
       "      <td>0</td>\n",
       "      <td>0</td>\n",
       "      <td>0</td>\n",
       "      <td>1.21</td>\n",
       "      <td>1</td>\n",
       "      <td>0</td>\n",
       "      <td>1</td>\n",
       "      <td>2</td>\n",
       "      <td>0</td>\n",
       "      <td>0</td>\n",
       "      <td>1</td>\n",
       "      <td>0</td>\n",
       "      <td>1</td>\n",
       "      <td>0</td>\n",
       "      <td>0</td>\n",
       "    </tr>\n",
       "    <tr>\n",
       "      <th>3</th>\n",
       "      <td>35782.0</td>\n",
       "      <td>0</td>\n",
       "      <td>2</td>\n",
       "      <td>1</td>\n",
       "      <td>0.99</td>\n",
       "      <td>1</td>\n",
       "      <td>0</td>\n",
       "      <td>1</td>\n",
       "      <td>1</td>\n",
       "      <td>0</td>\n",
       "      <td>0</td>\n",
       "      <td>0</td>\n",
       "      <td>1</td>\n",
       "      <td>1</td>\n",
       "      <td>0</td>\n",
       "      <td>0</td>\n",
       "    </tr>\n",
       "    <tr>\n",
       "      <th>4</th>\n",
       "      <td>34731.0</td>\n",
       "      <td>0</td>\n",
       "      <td>2</td>\n",
       "      <td>2</td>\n",
       "      <td>0.91</td>\n",
       "      <td>1</td>\n",
       "      <td>0</td>\n",
       "      <td>1</td>\n",
       "      <td>1</td>\n",
       "      <td>0</td>\n",
       "      <td>0</td>\n",
       "      <td>0</td>\n",
       "      <td>1</td>\n",
       "      <td>1</td>\n",
       "      <td>0</td>\n",
       "      <td>0</td>\n",
       "    </tr>\n",
       "  </tbody>\n",
       "</table>\n",
       "</div>"
      ],
      "text/plain": [
       "    salary  exprior  yearsworked  yearsrank  market  degree  otherqual  male  \\\n",
       "0  53000.0        0            0          0    1.17       1          0     1   \n",
       "1  58000.0        1            0          0    1.24       1          0     1   \n",
       "2  45500.0        0            0          0    1.21       1          0     1   \n",
       "3  35782.0        0            2          1    0.99       1          0     1   \n",
       "4  34731.0        0            2          2    0.91       1          0     1   \n",
       "\n",
       "   yearsabs  Engeneering  Finance  HR  Marketing  Junior_Employee  Manager  \\\n",
       "0         0            0        0   1          0                1        0   \n",
       "1         0            0        1   0          0                1        0   \n",
       "2         2            0        0   1          0                1        0   \n",
       "3         1            0        0   0          1                1        0   \n",
       "4         1            0        0   0          1                1        0   \n",
       "\n",
       "   Executive  \n",
       "0          0  \n",
       "1          0  \n",
       "2          0  \n",
       "3          0  \n",
       "4          0  "
      ]
     },
     "execution_count": 23,
     "metadata": {},
     "output_type": "execute_result"
    }
   ],
   "source": [
    "salary.head()"
   ]
  },
  {
   "cell_type": "code",
   "execution_count": 34,
   "metadata": {},
   "outputs": [],
   "source": [
    "df= salary .drop(['Marketing'], axis = 1)"
   ]
  },
  {
   "cell_type": "code",
   "execution_count": 25,
   "metadata": {},
   "outputs": [],
   "source": [
    "# Splitting the data for model 1\n",
    "X_train1, X_test1, y_train1, y_test1 = train_test_split(\n",
    "   salary.drop(labels=[\"salary\"], axis=1),\n",
    "    salary[\"salary\"],\n",
    "    test_size = 0.3,\n",
    "    random_state = 50)"
   ]
  },
  {
   "cell_type": "code",
   "execution_count": 26,
   "metadata": {},
   "outputs": [
    {
     "data": {
      "text/html": [
       "<table class=\"simpletable\">\n",
       "<caption>OLS Regression Results</caption>\n",
       "<tr>\n",
       "  <th>Dep. Variable:</th>         <td>salary</td>      <th>  R-squared:         </th> <td>   0.820</td> \n",
       "</tr>\n",
       "<tr>\n",
       "  <th>Model:</th>                   <td>OLS</td>       <th>  Adj. R-squared:    </th> <td>   0.813</td> \n",
       "</tr>\n",
       "<tr>\n",
       "  <th>Method:</th>             <td>Least Squares</td>  <th>  F-statistic:       </th> <td>   121.1</td> \n",
       "</tr>\n",
       "<tr>\n",
       "  <th>Date:</th>             <td>Sun, 19 Apr 2020</td> <th>  Prob (F-statistic):</th> <td>7.47e-120</td>\n",
       "</tr>\n",
       "<tr>\n",
       "  <th>Time:</th>                 <td>16:45:56</td>     <th>  Log-Likelihood:    </th> <td> -3586.5</td> \n",
       "</tr>\n",
       "<tr>\n",
       "  <th>No. Observations:</th>      <td>   359</td>      <th>  AIC:               </th> <td>   7201.</td> \n",
       "</tr>\n",
       "<tr>\n",
       "  <th>Df Residuals:</th>          <td>   345</td>      <th>  BIC:               </th> <td>   7255.</td> \n",
       "</tr>\n",
       "<tr>\n",
       "  <th>Df Model:</th>              <td>    13</td>      <th>                     </th>     <td> </td>    \n",
       "</tr>\n",
       "<tr>\n",
       "  <th>Covariance Type:</th>      <td>nonrobust</td>    <th>                     </th>     <td> </td>    \n",
       "</tr>\n",
       "</table>\n",
       "<table class=\"simpletable\">\n",
       "<tr>\n",
       "         <td></td>            <th>coef</th>     <th>std err</th>      <th>t</th>      <th>P>|t|</th>  <th>[0.025</th>    <th>0.975]</th>  \n",
       "</tr>\n",
       "<tr>\n",
       "  <th>const</th>           <td> 1.151e+04</td> <td> 1816.577</td> <td>    6.338</td> <td> 0.000</td> <td> 7940.475</td> <td> 1.51e+04</td>\n",
       "</tr>\n",
       "<tr>\n",
       "  <th>exprior</th>         <td>  154.5185</td> <td>   82.017</td> <td>    1.884</td> <td> 0.060</td> <td>   -6.798</td> <td>  315.835</td>\n",
       "</tr>\n",
       "<tr>\n",
       "  <th>yearsworked</th>     <td> -131.7656</td> <td>   96.473</td> <td>   -1.366</td> <td> 0.173</td> <td> -321.514</td> <td>   57.983</td>\n",
       "</tr>\n",
       "<tr>\n",
       "  <th>yearsrank</th>       <td>  781.5750</td> <td>   89.407</td> <td>    8.742</td> <td> 0.000</td> <td>  605.723</td> <td>  957.427</td>\n",
       "</tr>\n",
       "<tr>\n",
       "  <th>market</th>          <td> 2.909e+04</td> <td> 2138.094</td> <td>   13.607</td> <td> 0.000</td> <td> 2.49e+04</td> <td> 3.33e+04</td>\n",
       "</tr>\n",
       "<tr>\n",
       "  <th>degree</th>          <td> -844.1847</td> <td> 1484.972</td> <td>   -0.568</td> <td> 0.570</td> <td>-3764.922</td> <td> 2076.553</td>\n",
       "</tr>\n",
       "<tr>\n",
       "  <th>otherqual</th>       <td>  770.6481</td> <td> 1431.059</td> <td>    0.539</td> <td> 0.591</td> <td>-2044.051</td> <td> 3585.347</td>\n",
       "</tr>\n",
       "<tr>\n",
       "  <th>male</th>            <td>  931.1367</td> <td>  987.510</td> <td>    0.943</td> <td> 0.346</td> <td>-1011.161</td> <td> 2873.434</td>\n",
       "</tr>\n",
       "<tr>\n",
       "  <th>yearsabs</th>        <td>  -21.0566</td> <td>   23.522</td> <td>   -0.895</td> <td> 0.371</td> <td>  -67.320</td> <td>   25.207</td>\n",
       "</tr>\n",
       "<tr>\n",
       "  <th>Engeneering</th>     <td> 6040.1416</td> <td>  779.933</td> <td>    7.744</td> <td> 0.000</td> <td> 4506.121</td> <td> 7574.163</td>\n",
       "</tr>\n",
       "<tr>\n",
       "  <th>Finance</th>         <td> 4614.3173</td> <td>  747.087</td> <td>    6.176</td> <td> 0.000</td> <td> 3144.900</td> <td> 6083.735</td>\n",
       "</tr>\n",
       "<tr>\n",
       "  <th>HR</th>              <td>   93.5154</td> <td>  607.707</td> <td>    0.154</td> <td> 0.878</td> <td>-1101.761</td> <td> 1288.792</td>\n",
       "</tr>\n",
       "<tr>\n",
       "  <th>Marketing</th>       <td>  765.4602</td> <td>  641.752</td> <td>    1.193</td> <td> 0.234</td> <td> -496.780</td> <td> 2027.700</td>\n",
       "</tr>\n",
       "<tr>\n",
       "  <th>Junior_Employee</th> <td>-3172.8790</td> <td>  780.945</td> <td>   -4.063</td> <td> 0.000</td> <td>-4708.892</td> <td>-1636.865</td>\n",
       "</tr>\n",
       "<tr>\n",
       "  <th>Manager</th>         <td> 2687.2229</td> <td>  730.994</td> <td>    3.676</td> <td> 0.000</td> <td> 1249.457</td> <td> 4124.989</td>\n",
       "</tr>\n",
       "<tr>\n",
       "  <th>Executive</th>       <td>   1.2e+04</td> <td> 1123.449</td> <td>   10.681</td> <td> 0.000</td> <td> 9789.419</td> <td> 1.42e+04</td>\n",
       "</tr>\n",
       "</table>\n",
       "<table class=\"simpletable\">\n",
       "<tr>\n",
       "  <th>Omnibus:</th>       <td>23.263</td> <th>  Durbin-Watson:     </th> <td>   2.194</td>\n",
       "</tr>\n",
       "<tr>\n",
       "  <th>Prob(Omnibus):</th> <td> 0.000</td> <th>  Jarque-Bera (JB):  </th> <td>  34.618</td>\n",
       "</tr>\n",
       "<tr>\n",
       "  <th>Skew:</th>          <td> 0.465</td> <th>  Prob(JB):          </th> <td>3.04e-08</td>\n",
       "</tr>\n",
       "<tr>\n",
       "  <th>Kurtosis:</th>      <td> 4.205</td> <th>  Cond. No.          </th> <td>1.54e+17</td>\n",
       "</tr>\n",
       "</table><br/><br/>Warnings:<br/>[1] Standard Errors assume that the covariance matrix of the errors is correctly specified.<br/>[2] The smallest eigenvalue is 7.09e-30. This might indicate that there are<br/>strong multicollinearity problems or that the design matrix is singular."
      ],
      "text/plain": [
       "<class 'statsmodels.iolib.summary.Summary'>\n",
       "\"\"\"\n",
       "                            OLS Regression Results                            \n",
       "==============================================================================\n",
       "Dep. Variable:                 salary   R-squared:                       0.820\n",
       "Model:                            OLS   Adj. R-squared:                  0.813\n",
       "Method:                 Least Squares   F-statistic:                     121.1\n",
       "Date:                Sun, 19 Apr 2020   Prob (F-statistic):          7.47e-120\n",
       "Time:                        16:45:56   Log-Likelihood:                -3586.5\n",
       "No. Observations:                 359   AIC:                             7201.\n",
       "Df Residuals:                     345   BIC:                             7255.\n",
       "Df Model:                          13                                         \n",
       "Covariance Type:            nonrobust                                         \n",
       "===================================================================================\n",
       "                      coef    std err          t      P>|t|      [0.025      0.975]\n",
       "-----------------------------------------------------------------------------------\n",
       "const            1.151e+04   1816.577      6.338      0.000    7940.475    1.51e+04\n",
       "exprior           154.5185     82.017      1.884      0.060      -6.798     315.835\n",
       "yearsworked      -131.7656     96.473     -1.366      0.173    -321.514      57.983\n",
       "yearsrank         781.5750     89.407      8.742      0.000     605.723     957.427\n",
       "market           2.909e+04   2138.094     13.607      0.000    2.49e+04    3.33e+04\n",
       "degree           -844.1847   1484.972     -0.568      0.570   -3764.922    2076.553\n",
       "otherqual         770.6481   1431.059      0.539      0.591   -2044.051    3585.347\n",
       "male              931.1367    987.510      0.943      0.346   -1011.161    2873.434\n",
       "yearsabs          -21.0566     23.522     -0.895      0.371     -67.320      25.207\n",
       "Engeneering      6040.1416    779.933      7.744      0.000    4506.121    7574.163\n",
       "Finance          4614.3173    747.087      6.176      0.000    3144.900    6083.735\n",
       "HR                 93.5154    607.707      0.154      0.878   -1101.761    1288.792\n",
       "Marketing         765.4602    641.752      1.193      0.234    -496.780    2027.700\n",
       "Junior_Employee -3172.8790    780.945     -4.063      0.000   -4708.892   -1636.865\n",
       "Manager          2687.2229    730.994      3.676      0.000    1249.457    4124.989\n",
       "Executive          1.2e+04   1123.449     10.681      0.000    9789.419    1.42e+04\n",
       "==============================================================================\n",
       "Omnibus:                       23.263   Durbin-Watson:                   2.194\n",
       "Prob(Omnibus):                  0.000   Jarque-Bera (JB):               34.618\n",
       "Skew:                           0.465   Prob(JB):                     3.04e-08\n",
       "Kurtosis:                       4.205   Cond. No.                     1.54e+17\n",
       "==============================================================================\n",
       "\n",
       "Warnings:\n",
       "[1] Standard Errors assume that the covariance matrix of the errors is correctly specified.\n",
       "[2] The smallest eigenvalue is 7.09e-30. This might indicate that there are\n",
       "strong multicollinearity problems or that the design matrix is singular.\n",
       "\"\"\""
      ]
     },
     "execution_count": 26,
     "metadata": {},
     "output_type": "execute_result"
    }
   ],
   "source": [
    "# Building Model 1\n",
    "model1 = sm.add_constant(X_train1)\n",
    "model1 = sm.OLS(y_train1, model1).fit()\n",
    "model1.summary()\n",
    "\n"
   ]
  },
  {
   "cell_type": "code",
   "execution_count": 27,
   "metadata": {},
   "outputs": [],
   "source": [
    "# duplicating dataset\n",
    "data_2 = salary.copy()\n",
    "\n",
    "# dropping yearsrank \n",
    "data_2 = data_2.drop(\"yearsrank\", axis=1)"
   ]
  },
  {
   "cell_type": "code",
   "execution_count": 28,
   "metadata": {},
   "outputs": [],
   "source": [
    "# Splitting the data for model 2\n",
    "X_train2, X_test2, y_train2, y_test2 = train_test_split(\n",
    "   data_2.drop(labels=[\"salary\"], axis=1),\n",
    "    data_2[\"salary\"],\n",
    "    test_size = 0.3,\n",
    "    random_state = 50)"
   ]
  },
  {
   "cell_type": "code",
   "execution_count": 29,
   "metadata": {},
   "outputs": [
    {
     "data": {
      "text/html": [
       "<table class=\"simpletable\">\n",
       "<caption>OLS Regression Results</caption>\n",
       "<tr>\n",
       "  <th>Dep. Variable:</th>         <td>salary</td>      <th>  R-squared:         </th> <td>   0.780</td> \n",
       "</tr>\n",
       "<tr>\n",
       "  <th>Model:</th>                   <td>OLS</td>       <th>  Adj. R-squared:    </th> <td>   0.773</td> \n",
       "</tr>\n",
       "<tr>\n",
       "  <th>Method:</th>             <td>Least Squares</td>  <th>  F-statistic:       </th> <td>   102.4</td> \n",
       "</tr>\n",
       "<tr>\n",
       "  <th>Date:</th>             <td>Sun, 19 Apr 2020</td> <th>  Prob (F-statistic):</th> <td>5.36e-106</td>\n",
       "</tr>\n",
       "<tr>\n",
       "  <th>Time:</th>                 <td>16:45:56</td>     <th>  Log-Likelihood:    </th> <td> -3622.4</td> \n",
       "</tr>\n",
       "<tr>\n",
       "  <th>No. Observations:</th>      <td>   359</td>      <th>  AIC:               </th> <td>   7271.</td> \n",
       "</tr>\n",
       "<tr>\n",
       "  <th>Df Residuals:</th>          <td>   346</td>      <th>  BIC:               </th> <td>   7321.</td> \n",
       "</tr>\n",
       "<tr>\n",
       "  <th>Df Model:</th>              <td>    12</td>      <th>                     </th>     <td> </td>    \n",
       "</tr>\n",
       "<tr>\n",
       "  <th>Covariance Type:</th>      <td>nonrobust</td>    <th>                     </th>     <td> </td>    \n",
       "</tr>\n",
       "</table>\n",
       "<table class=\"simpletable\">\n",
       "<tr>\n",
       "         <td></td>            <th>coef</th>     <th>std err</th>      <th>t</th>      <th>P>|t|</th>  <th>[0.025</th>    <th>0.975]</th>  \n",
       "</tr>\n",
       "<tr>\n",
       "  <th>const</th>           <td> 8236.0752</td> <td> 1961.645</td> <td>    4.199</td> <td> 0.000</td> <td> 4377.826</td> <td> 1.21e+04</td>\n",
       "</tr>\n",
       "<tr>\n",
       "  <th>exprior</th>         <td>  459.2156</td> <td>   81.935</td> <td>    5.605</td> <td> 0.000</td> <td>  298.063</td> <td>  620.369</td>\n",
       "</tr>\n",
       "<tr>\n",
       "  <th>yearsworked</th>     <td>  548.3347</td> <td>   62.957</td> <td>    8.710</td> <td> 0.000</td> <td>  424.509</td> <td>  672.161</td>\n",
       "</tr>\n",
       "<tr>\n",
       "  <th>market</th>          <td> 3.012e+04</td> <td> 2356.067</td> <td>   12.784</td> <td> 0.000</td> <td> 2.55e+04</td> <td> 3.48e+04</td>\n",
       "</tr>\n",
       "<tr>\n",
       "  <th>degree</th>          <td> -124.6404</td> <td> 1636.321</td> <td>   -0.076</td> <td> 0.939</td> <td>-3343.028</td> <td> 3093.748</td>\n",
       "</tr>\n",
       "<tr>\n",
       "  <th>otherqual</th>       <td> 2299.3041</td> <td> 1567.506</td> <td>    1.467</td> <td> 0.143</td> <td> -783.736</td> <td> 5382.344</td>\n",
       "</tr>\n",
       "<tr>\n",
       "  <th>male</th>            <td>  644.7145</td> <td> 1089.233</td> <td>    0.592</td> <td> 0.554</td> <td>-1497.636</td> <td> 2787.065</td>\n",
       "</tr>\n",
       "<tr>\n",
       "  <th>yearsabs</th>        <td>  -37.2366</td> <td>   25.878</td> <td>   -1.439</td> <td> 0.151</td> <td>  -88.135</td> <td>   13.662</td>\n",
       "</tr>\n",
       "<tr>\n",
       "  <th>Engeneering</th>     <td> 5656.3267</td> <td>  859.382</td> <td>    6.582</td> <td> 0.000</td> <td> 3966.057</td> <td> 7346.597</td>\n",
       "</tr>\n",
       "<tr>\n",
       "  <th>Finance</th>         <td> 4143.1267</td> <td>  822.349</td> <td>    5.038</td> <td> 0.000</td> <td> 2525.695</td> <td> 5760.558</td>\n",
       "</tr>\n",
       "<tr>\n",
       "  <th>HR</th>              <td>-1240.8706</td> <td>  649.173</td> <td>   -1.911</td> <td> 0.057</td> <td>-2517.693</td> <td>   35.952</td>\n",
       "</tr>\n",
       "<tr>\n",
       "  <th>Marketing</th>       <td> -322.5076</td> <td>  694.803</td> <td>   -0.464</td> <td> 0.643</td> <td>-1689.076</td> <td> 1044.061</td>\n",
       "</tr>\n",
       "<tr>\n",
       "  <th>Junior_Employee</th> <td> -992.8625</td> <td>  816.740</td> <td>   -1.216</td> <td> 0.225</td> <td>-2599.263</td> <td>  613.538</td>\n",
       "</tr>\n",
       "<tr>\n",
       "  <th>Manager</th>         <td> 1796.0517</td> <td>  798.854</td> <td>    2.248</td> <td> 0.025</td> <td>  224.831</td> <td> 3367.273</td>\n",
       "</tr>\n",
       "<tr>\n",
       "  <th>Executive</th>       <td> 7432.8860</td> <td> 1097.693</td> <td>    6.771</td> <td> 0.000</td> <td> 5273.895</td> <td> 9591.877</td>\n",
       "</tr>\n",
       "</table>\n",
       "<table class=\"simpletable\">\n",
       "<tr>\n",
       "  <th>Omnibus:</th>       <td>43.852</td> <th>  Durbin-Watson:     </th> <td>   2.168</td>\n",
       "</tr>\n",
       "<tr>\n",
       "  <th>Prob(Omnibus):</th> <td> 0.000</td> <th>  Jarque-Bera (JB):  </th> <td>  81.127</td>\n",
       "</tr>\n",
       "<tr>\n",
       "  <th>Skew:</th>          <td> 0.700</td> <th>  Prob(JB):          </th> <td>2.42e-18</td>\n",
       "</tr>\n",
       "<tr>\n",
       "  <th>Kurtosis:</th>      <td> 4.860</td> <th>  Cond. No.          </th> <td>1.91e+17</td>\n",
       "</tr>\n",
       "</table><br/><br/>Warnings:<br/>[1] Standard Errors assume that the covariance matrix of the errors is correctly specified.<br/>[2] The smallest eigenvalue is 4.17e-30. This might indicate that there are<br/>strong multicollinearity problems or that the design matrix is singular."
      ],
      "text/plain": [
       "<class 'statsmodels.iolib.summary.Summary'>\n",
       "\"\"\"\n",
       "                            OLS Regression Results                            \n",
       "==============================================================================\n",
       "Dep. Variable:                 salary   R-squared:                       0.780\n",
       "Model:                            OLS   Adj. R-squared:                  0.773\n",
       "Method:                 Least Squares   F-statistic:                     102.4\n",
       "Date:                Sun, 19 Apr 2020   Prob (F-statistic):          5.36e-106\n",
       "Time:                        16:45:56   Log-Likelihood:                -3622.4\n",
       "No. Observations:                 359   AIC:                             7271.\n",
       "Df Residuals:                     346   BIC:                             7321.\n",
       "Df Model:                          12                                         \n",
       "Covariance Type:            nonrobust                                         \n",
       "===================================================================================\n",
       "                      coef    std err          t      P>|t|      [0.025      0.975]\n",
       "-----------------------------------------------------------------------------------\n",
       "const            8236.0752   1961.645      4.199      0.000    4377.826    1.21e+04\n",
       "exprior           459.2156     81.935      5.605      0.000     298.063     620.369\n",
       "yearsworked       548.3347     62.957      8.710      0.000     424.509     672.161\n",
       "market           3.012e+04   2356.067     12.784      0.000    2.55e+04    3.48e+04\n",
       "degree           -124.6404   1636.321     -0.076      0.939   -3343.028    3093.748\n",
       "otherqual        2299.3041   1567.506      1.467      0.143    -783.736    5382.344\n",
       "male              644.7145   1089.233      0.592      0.554   -1497.636    2787.065\n",
       "yearsabs          -37.2366     25.878     -1.439      0.151     -88.135      13.662\n",
       "Engeneering      5656.3267    859.382      6.582      0.000    3966.057    7346.597\n",
       "Finance          4143.1267    822.349      5.038      0.000    2525.695    5760.558\n",
       "HR              -1240.8706    649.173     -1.911      0.057   -2517.693      35.952\n",
       "Marketing        -322.5076    694.803     -0.464      0.643   -1689.076    1044.061\n",
       "Junior_Employee  -992.8625    816.740     -1.216      0.225   -2599.263     613.538\n",
       "Manager          1796.0517    798.854      2.248      0.025     224.831    3367.273\n",
       "Executive        7432.8860   1097.693      6.771      0.000    5273.895    9591.877\n",
       "==============================================================================\n",
       "Omnibus:                       43.852   Durbin-Watson:                   2.168\n",
       "Prob(Omnibus):                  0.000   Jarque-Bera (JB):               81.127\n",
       "Skew:                           0.700   Prob(JB):                     2.42e-18\n",
       "Kurtosis:                       4.860   Cond. No.                     1.91e+17\n",
       "==============================================================================\n",
       "\n",
       "Warnings:\n",
       "[1] Standard Errors assume that the covariance matrix of the errors is correctly specified.\n",
       "[2] The smallest eigenvalue is 4.17e-30. This might indicate that there are\n",
       "strong multicollinearity problems or that the design matrix is singular.\n",
       "\"\"\""
      ]
     },
     "execution_count": 29,
     "metadata": {},
     "output_type": "execute_result"
    }
   ],
   "source": [
    "# Building Model 2\n",
    "model2 = sm.add_constant(X_train2)\n",
    "model2 = sm.OLS(y_train2, model2).fit()\n",
    "model2.summary()"
   ]
  },
  {
   "cell_type": "code",
   "execution_count": 30,
   "metadata": {},
   "outputs": [
    {
     "name": "stdout",
     "output_type": "stream",
     "text": [
      "Model1 MSE:\t\t33262036.44271101\n",
      "Model2 MSE:\t\t37692364.738189995\n"
     ]
    }
   ],
   "source": [
    "#error calculator\n",
    "model1_errors = ErrorCalculator(y_test1, model1.predict(sm.add_constant(X_test1)))\n",
    "model2_errors = ErrorCalculator(y_test2, model2.predict(sm.add_constant(X_test2)))\n",
    "\n",
    "# MSE \n",
    "print(\"Model1 MSE:\\t\\t{}\".format(model1_errors.get_mse()))\n",
    "print(\"Model2 MSE:\\t\\t{}\".format(model2_errors.get_mse()))"
   ]
  },
  {
   "cell_type": "code",
   "execution_count": 31,
   "metadata": {},
   "outputs": [
    {
     "name": "stdout",
     "output_type": "stream",
     "text": [
      "Model1 RMSE:\t\t5767.3248948460505\n",
      "Model2 RMSE:\t\t6139.410781026954\n"
     ]
    }
   ],
   "source": [
    "# RMSE\n",
    "print(\"Model1 RMSE:\\t\\t{}\".format(model1_errors.get_rmse()))\n",
    "print(\"Model2 RMSE:\\t\\t{}\".format(model2_errors.get_rmse()))"
   ]
  },
  {
   "cell_type": "code",
   "execution_count": 32,
   "metadata": {},
   "outputs": [
    {
     "data": {
      "image/png": "[encoded data removed]",
      "text/plain": [
       "<Figure size 432x288 with 1 Axes>"
      ]
     },
     "metadata": {},
     "output_type": "display_data"
    },
    {
     "data": {
      "image/png": "[encoded data removed]",
      "text/plain": [
       "<Figure size 432x288 with 1 Axes>"
      ]
     },
     "metadata": {},
     "output_type": "display_data"
    }
   ],
   "source": [
    "#Model 1 plotting graphs\n",
    "model1_plot = HistogramPlotter(y_test1, model1.predict(sm.add_constant(X_test1)))\n",
    "model1_scatter = ScatterPlotter(y_test1, model1.predict(sm.add_constant(X_test1)))\n",
    "\n",
    "# Mode1 Histogram Plot\n",
    "model1_plot.plot()\n",
    "\n",
    "#model1 Scatter Plot\n",
    "model1_scatter.plot()\n",
    "\n"
   ]
  },
  {
   "cell_type": "code",
   "execution_count": 33,
   "metadata": {},
   "outputs": [
    {
     "data": {
      "image/png": "[encoded data removed]",
      "text/plain": [
       "<Figure size 432x288 with 1 Axes>"
      ]
     },
     "metadata": {},
     "output_type": "display_data"
    },
    {
     "data": {
      "image/png": "[encoded data removed]",
      "text/plain": [
       "<Figure size 432x288 with 1 Axes>"
      ]
     },
     "metadata": {},
     "output_type": "display_data"
    }
   ],
   "source": [
    "#Model 2 plotting graphs\n",
    "model2_plot = HistogramPlotter(y_test2, model2.predict(sm.add_constant(X_test2)))\n",
    "model2_scatter = ScatterPlotter(y_test2, model2.predict(sm.add_constant(X_test2)))\n",
    "\n",
    "# Mode1 Histogram Plot\n",
    "model2_plot.plot()\n",
    "\n",
    "#model1 Scatter Plot\n",
    "model2_scatter.plot()"
   ]
  },
  {
   "cell_type": "code",
   "execution_count": null,
   "metadata": {},
   "outputs": [],
   "source": []
  }
 ],
 "metadata": {
  "kernelspec": {
   "display_name": "Python 3",
   "language": "python",
   "name": "python3"
  },
  "language_info": {
   "codemirror_mode": {
    "name": "ipython",
    "version": 3
   },
   "file_extension": ".py",
   "mimetype": "text/x-python",
   "name": "python",
   "nbconvert_exporter": "python",
   "pygments_lexer": "ipython3",
   "version": "3.7.5"
  }
 },
 "nbformat": 4,
 "nbformat_minor": 4
}
